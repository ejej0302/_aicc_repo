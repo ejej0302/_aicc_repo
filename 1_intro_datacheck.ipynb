{
 "cells": [
  {
   "cell_type": "markdown",
   "metadata": {},
   "source": [
    "---\n",
    "\n",
    "# 다양한 딥러닝 기반 텍스트 분류 엔진 모델 및 API개발\n",
    "(부제 : IT VOC 2선 분류 업무 자동화를 위한 AI 모델 개발)\n",
    "\n",
    "- 개요 : \\\n",
    "IT VOC 프로세스 내에서는 1선 그룹에서 처리하지 못하는 VOC를 2선 그룹으로 넘겨 처리하고 있는데, 이 때 상담사가 경험 기반으로 VOC 내용을 판단해서 적절한 2선 그룹(183개 분류 그룹 중 하나)로 매핑하여 넘기고 있으며 건당 30초가 걸리는 이 수작업 과정을 자동화할 수 있도록, 구글에서 공개한 BERT(nlp pre-training 모델)을 참고하여 해당 업무에 Customized 된 AI 자동 분류 모델을 만드는 것입니다.\n",
    "\n",
    "- 과제 배경 : \\\n",
    ".대리점 직원 또는 임직원이 고객의 요금, 해지 등 업무 처리를 위해 사내 IT 전산(KOS 등)을 활용하는데 시스템 상의 처리 오류 등 문제가 발생한 경우, ITSM이나 IT 콜센터로 VOC를 접수하게 됩니다. \\\n",
    ".이렇게 들어온 VOC는 상담사가 1선 처리 그룹으로 해당 VOC를 매핑하여 해결토록 합니다. 보통 처리 방법이 명확한 접수 사항은 문제없이 1선에서 해결되지만, 당장 처리가 불가하거나 보류가 필요한 VOC의 경우에는 2선(또는 1.5선) 처리 그룹으로 매핑하여 넘기고 있습니다. \\\n",
    ".이 때 상담사가 2선 처리 그룹으로 넘길 때, 본인의 경험을 바탕으로 VOC 내용을 판단하여 183개 처리 그룹 중 하나로 매핑하여 넘기고 있으며, 처리그룹명이 길고 복잡하다 보니 건 당 약 30초의 시간이 소요되고 있어 업무 처리 효율이 떨어지는 문제점이 있고, 또 휴먼에러로 인해 매핑에 실패할 경우 VOC가 핑퐁되고 재매핑되어 처리 시간이 길어지게 되어 고객의 불만이 높아지는 사태가 발생할 수 있습니다. \\\n",
    ".본 과제를 통해서 IT VOC 프로세스에 'AI를 활용한 2선 분류 자동화 모델'이 적용이 된다면 사람 경험에 따른 불규칙하고 비효율적인 처리 방식에서 AI모델을 통한 일관되고 효율적인 VOC 처리를 통해 상담사, 고객 모두 만족도가 높아질 것이라 기대합니다. \n",
    "\n",
    "(사진: 상담 프로세스 넣기)\n",
    "\n",
    "- 과제 목표 : \\\n",
    "상담 내용(text) 기반으로 2선 처리 그룹 분류 정확도 Top1 기준 80% 이상 달성 \n",
    "> 작년 PO부서의 모델의 분류 정확도 : 77.9% \n",
    "\n",
    "- 과제 내용 : \\\n",
    "자연어처리 최신 기법인 Transfer Learning(BERT 등)을 통해 분류 task의 성능을 높일 수 있도록 다각도로 연구해보고, 추가로 연구 성능을 높일 수 있는 다양한 시도를 했던 과정을 기록하였습니다.\n",
    "\n",
    "---"
   ]
  },
  {
   "cell_type": "markdown",
   "metadata": {},
   "source": [
    "<br>\n",
    "\n",
    "## 1. 데이터 탐색"
   ]
  },
  {
   "cell_type": "markdown",
   "metadata": {},
   "source": [
    "\n",
    "#### (1) Data 불러오기\n",
    "\n",
    "    ㅇ 대상 : IT VOC 상담 처리 데이터 \n",
    "    ㅇ 기간 : 2018.07 ~ 2019.05 (11개월) \n",
    "    \n",
    "    * 작년 PO부서에서 과제 진행시 사용한 데이터를 활용 하였습니다. (동일한 test set 기준으로 성능 비교 예정)"
   ]
  },
  {
   "cell_type": "code",
   "execution_count": null,
   "metadata": {},
   "outputs": [],
   "source": [
    "import numpy as np\n",
    "import pandas as pd\n",
    "\n",
    "# 전달받은 원본 그대로 load\n",
    "# 1) 전체 data 불러오기 \n",
    "data_2018_1 = pd.read_csv('data/data_all/2018_sheet1.txt', header = 0,sep = \"\\t\" ,encoding='cp949' )\n",
    "data_2018_2 = pd.read_csv('data/data_all/2018_sheet2.txt', header = 0,sep = \"\\t\" ,encoding='cp949' )\n",
    "data_2018_3 = pd.read_csv('data/data_all/2018_sheet3.txt', header = 0,sep = \"\\t\" ,encoding='cp949' )\n",
    "data_2018_4 = pd.read_csv('data/data_all/2018_sheet4.txt', header = 0,sep = \"\\t\" ,encoding='cp949' )\n",
    "data_2018_5 = pd.read_csv('data/data_all/2018_sheet5.txt', header = 0,sep = \"\\t\" ,encoding='cp949' )\n",
    "data_2019_1 = pd.read_csv('data/data_all/2019_sheet1.txt', header = 0,sep = \"\\t\" ,encoding='cp949' )\n",
    "data_2019_2 = pd.read_csv('data/data_all/2019_sheet2.txt', header = 0,sep = \"\\t\" ,encoding='cp949' )\n",
    "data_2019_3 = pd.read_csv('data/data_all/2019_sheet4.txt', header = 0,sep = \"\\t\" ,encoding='cp949' )\n",
    "data_2019_4 = pd.read_csv('data/data_all/2019_sheet5.txt', header = 0,sep = \"\\t\" ,encoding='cp949' )\n",
    "\n",
    "# 합치기 (원천데이터이며 이안에 test data도 포함되어 있기에 제외작업 필요)\n",
    "data_all = pd.concat([data_2018_1,data_2018_2,data_2018_3,data_2018_4,data_2018_5,data_2019_1,data_2019_2,data_2019_3,data_2019_4],axis=0)\n",
    "\n",
    "\n",
    "# 2) 작년 po부서에서 정확도 산정에 쓰인 test set 불러오기 \n",
    "test = pd.read_table('data/data_all/test.tsv' ,sep = \"\\t\" ,encoding='utf-8',header=None) # 서비스문의ID 와 제목+내용 컬럼 존재\n",
    "test.columns = ['id','content']\n",
    "test_label = pd.read_table('data/data_all/solution.tsv', sep = \"\\t\" ,encoding='utf-8' ,header=None) # 서비스문의ID 와 최종처리그룹 컬럼 존재\n",
    "test_label.columns = ['id','label']"
   ]
  },
  {
   "cell_type": "markdown",
   "metadata": {},
   "source": [
    "<br><br>\n",
    "#### (2) Data 관찰\n",
    "   - 아래와 같이 서비스문의ID ~ 작업그룹명까지 18개의 컬럼이 있고, 이 중 <code>'최종처리그룹'</code>이 예측 해야하는 **결과값(y)** 입니다.\n",
    "   - 예측방법으로 NLP task를 사용할 것이며, <code>'제목'</code> 과 <code>'내용'</code> 의 text data를 **입력값(X)** 으로 사용하게 됩니다.\n",
    "   - 전달받은 데이터는 56만건 이며, 이는 '최종 지원 단계' 1선과 2선이 포함된 데이터 입니다. 2선 데이터를 대상으로 분석이 진행됩니다."
   ]
  },
  {
   "cell_type": "code",
   "execution_count": 5,
   "metadata": {},
   "outputs": [
    {
     "data": {
      "text/html": [
       "<div>\n",
       "<style scoped>\n",
       "    .dataframe tbody tr th:only-of-type {\n",
       "        vertical-align: middle;\n",
       "    }\n",
       "\n",
       "    .dataframe tbody tr th {\n",
       "        vertical-align: top;\n",
       "    }\n",
       "\n",
       "    .dataframe thead th {\n",
       "        text-align: right;\n",
       "    }\n",
       "</style>\n",
       "<table border=\"1\" class=\"dataframe\">\n",
       "  <thead>\n",
       "    <tr style=\"text-align: right;\">\n",
       "      <th></th>\n",
       "      <th>서비스문의 ID</th>\n",
       "      <th>도메인ID</th>\n",
       "      <th>서비스</th>\n",
       "      <th>등록일</th>\n",
       "      <th>요청자ID</th>\n",
       "      <th>요청자부서ID</th>\n",
       "      <th>제목</th>\n",
       "      <th>내용</th>\n",
       "      <th>문의유형 Level1</th>\n",
       "      <th>문의유형 Level2</th>\n",
       "      <th>VOC코드1</th>\n",
       "      <th>VOC코드2</th>\n",
       "      <th>VOC코드3</th>\n",
       "      <th>최종 지원 단계</th>\n",
       "      <th>최종처리그룹</th>\n",
       "      <th>최종처리그룹명</th>\n",
       "      <th>작업그룹</th>\n",
       "      <th>작업그룹명</th>\n",
       "    </tr>\n",
       "  </thead>\n",
       "  <tbody>\n",
       "    <tr>\n",
       "      <th>0</th>\n",
       "      <td>SRM18070179909</td>\n",
       "      <td>COD_03825</td>\n",
       "      <td>BG0117</td>\n",
       "      <td>2018-07-01</td>\n",
       "      <td>91165856</td>\n",
       "      <td>NaN</td>\n",
       "      <td>고객님 정보 확인 불가 문의</td>\n",
       "      <td>안녕하세요.\\r\\n당일 고객님 분실정지 진행하려고 하는데 인입시 고객정보가 조회되지...</td>\n",
       "      <td>불만문의</td>\n",
       "      <td>DB보정</td>\n",
       "      <td>VCA00948</td>\n",
       "      <td>VCB04356</td>\n",
       "      <td>VCC12278</td>\n",
       "      <td>2선</td>\n",
       "      <td>ASM34824</td>\n",
       "      <td>KOS-오더_KOS-Customer_CDM-통합UI_서비스요청_2선</td>\n",
       "      <td>ASM34886</td>\n",
       "      <td>ISC_서비스요청_KOS_Mobile_B2C_1선</td>\n",
       "    </tr>\n",
       "  </tbody>\n",
       "</table>\n",
       "</div>"
      ],
      "text/plain": [
       "         서비스문의 ID      도메인ID     서비스         등록일     요청자ID 요청자부서ID  \\\n",
       "0  SRM18070179909  COD_03825  BG0117  2018-07-01  91165856     NaN   \n",
       "\n",
       "                제목                                                 내용  \\\n",
       "0  고객님 정보 확인 불가 문의  안녕하세요.\\r\\n당일 고객님 분실정지 진행하려고 하는데 인입시 고객정보가 조회되지...   \n",
       "\n",
       "  문의유형 Level1 문의유형 Level2    VOC코드1    VOC코드2    VOC코드3 최종 지원 단계    최종처리그룹  \\\n",
       "0        불만문의        DB보정  VCA00948  VCB04356  VCC12278       2선  ASM34824   \n",
       "\n",
       "                                 최종처리그룹명      작업그룹  \\\n",
       "0  KOS-오더_KOS-Customer_CDM-통합UI_서비스요청_2선  ASM34886   \n",
       "\n",
       "                         작업그룹명  \n",
       "0  ISC_서비스요청_KOS_Mobile_B2C_1선  "
      ]
     },
     "execution_count": 5,
     "metadata": {},
     "output_type": "execute_result"
    }
   ],
   "source": [
    "pd.set_option('display.max.colwidth', 50)\n",
    "data_all.head(1)"
   ]
  },
  {
   "cell_type": "code",
   "execution_count": 3,
   "metadata": {},
   "outputs": [
    {
     "data": {
      "text/plain": [
       "(564319, 18)"
      ]
     },
     "execution_count": 3,
     "metadata": {},
     "output_type": "execute_result"
    }
   ],
   "source": [
    "data_all.shape # 총 56만건 데이터, 18개 컬럼"
   ]
  },
  {
   "cell_type": "code",
   "execution_count": 10,
   "metadata": {},
   "outputs": [
    {
     "data": {
      "text/plain": [
       "1선          86.094867\n",
       "2선           8.076816\n",
       "1.5선         5.828139\n",
       "ASM30005     0.000179\n",
       "Name: 최종 지원 단계, dtype: float64"
      ]
     },
     "execution_count": 10,
     "metadata": {},
     "output_type": "execute_result"
    }
   ],
   "source": [
    "data_all['최종 지원 단계'].value_counts() # 1선 : 48만건 , 2선 : 4.5만건 , 1.5선 : 3만건 \n",
    "data_all['최종 지원 단계'].value_counts()/data_all['최종 지원 단계'].count()*100  # 1선 : 86% , 2선 : 8% , 1.5선 : 약6% 해당"
   ]
  },
  {
   "cell_type": "markdown",
   "metadata": {},
   "source": [
    "> 1선 : 약 48만 건 (86%) \\\n",
    "> 1.5~2선 : 약 8만 건 (14%)\n"
   ]
  },
  {
   "cell_type": "markdown",
   "metadata": {},
   "source": [
    "<br><br>\n",
    "#### (3) Train Data Frame 저장\n",
    "  \n",
    "    1. 전체 56만건 중에서 Test Set의 '최종처리그룹' 183개 label을 대상으로 추립니다.\n",
    "    2. Test Set에 사용된 8327개의 '서비스문의ID'는 제외합니다. (학습시 test 데이터는 포함하면 안됨) \n"
   ]
  },
  {
   "cell_type": "code",
   "execution_count": 3,
   "metadata": {},
   "outputs": [
    {
     "name": "stdout",
     "output_type": "stream",
     "text": [
      "test의 최종처리그룹(y) 개수 : 183 개\n",
      "처리 후 데이터 shape : (42723, 18)\n"
     ]
    }
   ],
   "source": [
    "# 1) 56만건 중 Test Set에 있는 '최종처리그룹'만 선택\n",
    "print('test의 최종처리그룹(y) 개수 :', test_label.label.nunique(),'개' )  # 183\n",
    "lb_183 = test_label.label.unique() \n",
    "data_sub = data_all.loc[data_all['최종처리그룹'].isin(lb_183) , :]\n",
    "print('처리 후 데이터 shape :', data_sub.shape )  # (42723, 18)"
   ]
  },
  {
   "cell_type": "code",
   "execution_count": 4,
   "metadata": {},
   "outputs": [
    {
     "name": "stdout",
     "output_type": "stream",
     "text": [
      "test의 서비스문의 ID 개수 : 8327 개\n",
      "처리 후 데이터 shape : (34396, 18)\n"
     ]
    }
   ],
   "source": [
    "# 2) 56만건 중 Test Set의 '서비스문의ID' 제거\n",
    "print('test의 서비스문의 ID 개수 :', test.id.nunique(), '개' )  # 8327\n",
    "test_id = test.id.unique() \n",
    "df_train = data_sub.loc[~data_sub['서비스문의 ID'].isin(test_id),:] \n",
    "print('처리 후 데이터 shape :', df_train.shape )  # (34396, 18)"
   ]
  },
  {
   "cell_type": "code",
   "execution_count": 5,
   "metadata": {},
   "outputs": [],
   "source": [
    "# 3) 저장 (추후 daraframe 으로 불러오기용)\n",
    "df_train.to_csv('train_df.tsv', index=False, header=True, sep=\"\\t\")"
   ]
  },
  {
   "cell_type": "markdown",
   "metadata": {},
   "source": [
    "> 최종 Train Data Frame : df_train \\\n",
    "> dt_train 데이터 건수 : 34,396"
   ]
  },
  {
   "cell_type": "markdown",
   "metadata": {},
   "source": [
    "<br><br>\n",
    "#### (4) Test Data Frame 저장\n",
    "  \n",
    "    1. 전체 56만건 중 Test Set의 같은 '서비스문의ID'로 선별합니다.\n",
    "    "
   ]
  },
  {
   "cell_type": "code",
   "execution_count": 8,
   "metadata": {},
   "outputs": [
    {
     "name": "stdout",
     "output_type": "stream",
     "text": [
      "원본 Test Set shape : (8327, 2)\n",
      "처리 후 데이터 shape : (8327, 18)\n",
      "\n",
      " ▶ 원본 Test Set 과 df_test 데이터 총 행 개수 동일\n"
     ]
    }
   ],
   "source": [
    "# 56만건 중 Test Set의 동일 '서비스문의ID' 저장\n",
    "print('원본 Test Set shape :', test.shape )  # (34396, 2)\n",
    "df_test = data_sub.loc[data_sub['서비스문의 ID'].isin(test_id) , :]\n",
    "print('처리 후 데이터 shape :', df_test.shape )  # (34396, 18)\n",
    "print('\\n ▶ 원본 Test Set 과 df_test 데이터 총 행 개수 동일')"
   ]
  },
  {
   "cell_type": "code",
   "execution_count": 9,
   "metadata": {},
   "outputs": [],
   "source": [
    "# 저장 (추후 daraframe 으로 불러오기용)\n",
    "df_test.to_csv('test_df.tsv', index=False, header=True, sep=\"\\t\")"
   ]
  },
  {
   "cell_type": "markdown",
   "metadata": {},
   "source": [
    "> 최종 Test Data Frame : df_test \\\n",
    "> df_test 데이터 건수 : 8,327"
   ]
  },
  {
   "cell_type": "markdown",
   "metadata": {},
   "source": [
    "<br><br>\n",
    "#### (5) Data 결측치 여부\n",
    "  \n",
    "   - Train data 와 Test data의 결측치 여부를 확인합니다.\n",
    "   - 타겟 컬럼 : <code>제목</code>, <code>내용</code>, <code>최종처리그룹</code>\n",
    "    "
   ]
  },
  {
   "cell_type": "code",
   "execution_count": 10,
   "metadata": {},
   "outputs": [
    {
     "name": "stdout",
     "output_type": "stream",
     "text": [
      "Train data 결측치 개수 : 0\n",
      "Test data 결측치 개수 : 0\n"
     ]
    }
   ],
   "source": [
    "target_col = ['제목', '내용', '최종처리그룹']\n",
    "print('Train data 결측치 개수 :', sum([df_train[col].isnull().sum() for col in target_col]))\n",
    "print('Test data 결측치 개수 :', sum([df_test[col].isnull().sum() for col in target_col]))"
   ]
  },
  {
   "cell_type": "markdown",
   "metadata": {},
   "source": [
    "<br><br>\n",
    "#### (6) 최종처리그룹(y) Label 살펴보기\n",
    "  \n",
    "    1. Train data 와 Test data의 label 개수를 비교합니다.\n",
    "    2. label(레이블)별 데이터가 고르게 분포되어 있는지 그래프를 통해 확인합니다."
   ]
  },
  {
   "cell_type": "code",
   "execution_count": 11,
   "metadata": {},
   "outputs": [
    {
     "name": "stdout",
     "output_type": "stream",
     "text": [
      "Train의 최종처리그룹(y) 개수 : 175 개\n",
      "Test의 최종처리그룹(y) 개수 : 183 개 \n",
      "\n"
     ]
    }
   ],
   "source": [
    "# 1) Train data 와 Test data의 label 개수 비교\n",
    "print('Train의 최종처리그룹(y) 개수 :', df_train.최종처리그룹.nunique(), '개' )\n",
    "print('Test의 최종처리그룹(y) 개수 :', df_test.최종처리그룹.nunique(), '개 \\n' )"
   ]
  },
  {
   "cell_type": "code",
   "execution_count": 12,
   "metadata": {},
   "outputs": [
    {
     "name": "stdout",
     "output_type": "stream",
     "text": [
      "Test 레이블 개수가 Train의 레이블 개수 보다 8 개 많습니다.\n",
      "해당 레이블 (8개) :  ['ASM30358', 'ASM39559', 'ASM37580', 'ASM18770', 'ASM37550', 'ASM14444', 'ASM30366', 'ASM40270']\n",
      "Test data 내 해당 8개의 레이블이 차지하는 데이터의 건수를 확인 합니다.\n",
      " -> 9 건\n",
      "9 건은 전체 test data(8327건)의 0.1 %에 해당합니다.\n"
     ]
    }
   ],
   "source": [
    "print('Test 레이블 개수가 Train의 레이블 개수 보다', df_test.최종처리그룹.nunique() - df_train.최종처리그룹.nunique(), '개 많습니다.' )\n",
    "print('해당 레이블 (8개) : ',list(set(df_test['최종처리그룹']) - set(df_train['최종처리그룹'])))\n",
    "ex_labels = list(set(df_test['최종처리그룹']) - set(df_train['최종처리그룹']))\n",
    "\n",
    "print('Test data 내 해당 8개의 레이블이 차지하는 데이터의 건수를 확인 합니다.')\n",
    "print(' ->',df_test.loc[df_test.최종처리그룹.isin(ex_labels),:].shape[0],'건')\n",
    "print(df_test.loc[df_test.최종처리그룹.isin(ex_labels),:].shape[0],'건은 전체 test data(8327건)의'\n",
    "      ,round(df_test.loc[df_test.최종처리그룹.isin(ex_labels),:].shape[0]/df_test.shape[0]*100,1),'%에 해당합니다.')"
   ]
  },
  {
   "cell_type": "markdown",
   "metadata": {},
   "source": [
    "> 9건을 삭제한다면 정확도(accuracy) 향상에 유리하겠지만, \\\n",
    "8개의 해당 label을 test set에서 삭제하지 않았습니다. \\\n",
    "> 이유는, 미래의 데이터에는 해당 9개의 레이블을 정답으로 하는 VOC가 발생할 수 있기 때문입니다.\n"
   ]
  },
  {
   "cell_type": "code",
   "execution_count": 128,
   "metadata": {},
   "outputs": [
    {
     "data": {
      "image/png": "[encoded data removed]",
      "text/plain": [
       "<Figure size 1440x360 with 2 Axes>"
      ]
     },
     "metadata": {
      "needs_background": "light"
     },
     "output_type": "display_data"
    }
   ],
   "source": [
    "# 2) label(레이블)별 데이터 빈도 확인 \n",
    "import matplotlib.pyplot as plt\n",
    "import seaborn as sns \n",
    "train_lb = pd.DataFrame(df_train['최종처리그룹'].value_counts())\n",
    "train_lb = train_lb.reset_index()\n",
    "train_lb.columns = ['Train_label','count']\n",
    "test_lb = pd.DataFrame(df_test['최종처리그룹'].value_counts())\n",
    "test_lb = test_lb.reset_index()\n",
    "test_lb.columns = ['Test_label','count']\n",
    "\n",
    "# 그래프\n",
    "f, axes = plt.subplots(1, 2, figsize=(20, 5))\n",
    "fig_1 = sns.barplot(x='Train_label', y=\"count\", data=train_lb.sort_values(by='Train_label'), ax=axes[0],color=\"blue\").set(xticklabels=[])\n",
    "fig_2 = sns.barplot(x='Test_label', y=\"count\", data=test_lb.sort_values(by='Test_label'), ax=axes[1],color=\"red\").set(xticklabels=[])\n",
    "# plt.tight_layout(pad=3.0)\n",
    "# test_lb"
   ]
  },
  {
   "cell_type": "markdown",
   "metadata": {},
   "source": [
    "> Train / Test data의 label 별 데이터가 분포가 불균형 합니다. \\\n",
    "> 데이터가 많은 label은 정답률이 높을 것이고, 데이터가 부족한 label은 그렇지 못할 것으로 예상됩니다. (추후 데이터 추가 보완이 필요해 보임)\n"
   ]
  },
  {
   "cell_type": "code",
   "execution_count": 127,
   "metadata": {},
   "outputs": [
    {
     "data": {
      "text/html": [
       "<div>\n",
       "<style scoped>\n",
       "    .dataframe tbody tr th:only-of-type {\n",
       "        vertical-align: middle;\n",
       "    }\n",
       "\n",
       "    .dataframe tbody tr th {\n",
       "        vertical-align: top;\n",
       "    }\n",
       "\n",
       "    .dataframe thead th {\n",
       "        text-align: right;\n",
       "    }\n",
       "</style>\n",
       "<table border=\"1\" class=\"dataframe\">\n",
       "  <thead>\n",
       "    <tr style=\"text-align: right;\">\n",
       "      <th></th>\n",
       "      <th>Labels</th>\n",
       "      <th>Test_Cnt</th>\n",
       "      <th>Train_Cnt</th>\n",
       "    </tr>\n",
       "  </thead>\n",
       "  <tbody>\n",
       "    <tr>\n",
       "      <th>0</th>\n",
       "      <td>ASM30031</td>\n",
       "      <td>431</td>\n",
       "      <td>1631.0</td>\n",
       "    </tr>\n",
       "    <tr>\n",
       "      <th>1</th>\n",
       "      <td>ASM38968</td>\n",
       "      <td>358</td>\n",
       "      <td>1398.0</td>\n",
       "    </tr>\n",
       "    <tr>\n",
       "      <th>2</th>\n",
       "      <td>ASM30565</td>\n",
       "      <td>339</td>\n",
       "      <td>1424.0</td>\n",
       "    </tr>\n",
       "    <tr>\n",
       "      <th>3</th>\n",
       "      <td>ASM30014</td>\n",
       "      <td>321</td>\n",
       "      <td>1233.0</td>\n",
       "    </tr>\n",
       "    <tr>\n",
       "      <th>4</th>\n",
       "      <td>ASM24663</td>\n",
       "      <td>290</td>\n",
       "      <td>1291.0</td>\n",
       "    </tr>\n",
       "    <tr>\n",
       "      <th>...</th>\n",
       "      <td>...</td>\n",
       "      <td>...</td>\n",
       "      <td>...</td>\n",
       "    </tr>\n",
       "    <tr>\n",
       "      <th>178</th>\n",
       "      <td>ASM40270</td>\n",
       "      <td>1</td>\n",
       "      <td>NaN</td>\n",
       "    </tr>\n",
       "    <tr>\n",
       "      <th>179</th>\n",
       "      <td>ASM39556</td>\n",
       "      <td>1</td>\n",
       "      <td>4.0</td>\n",
       "    </tr>\n",
       "    <tr>\n",
       "      <th>180</th>\n",
       "      <td>ASM14261</td>\n",
       "      <td>1</td>\n",
       "      <td>2.0</td>\n",
       "    </tr>\n",
       "    <tr>\n",
       "      <th>181</th>\n",
       "      <td>ASM14307</td>\n",
       "      <td>1</td>\n",
       "      <td>3.0</td>\n",
       "    </tr>\n",
       "    <tr>\n",
       "      <th>182</th>\n",
       "      <td>ASM16566</td>\n",
       "      <td>1</td>\n",
       "      <td>11.0</td>\n",
       "    </tr>\n",
       "  </tbody>\n",
       "</table>\n",
       "<p>183 rows × 3 columns</p>\n",
       "</div>"
      ],
      "text/plain": [
       "       Labels  Test_Cnt  Train_Cnt\n",
       "0    ASM30031       431     1631.0\n",
       "1    ASM38968       358     1398.0\n",
       "2    ASM30565       339     1424.0\n",
       "3    ASM30014       321     1233.0\n",
       "4    ASM24663       290     1291.0\n",
       "..        ...       ...        ...\n",
       "178  ASM40270         1        NaN\n",
       "179  ASM39556         1        4.0\n",
       "180  ASM14261         1        2.0\n",
       "181  ASM14307         1        3.0\n",
       "182  ASM16566         1       11.0\n",
       "\n",
       "[183 rows x 3 columns]"
      ]
     },
     "execution_count": 127,
     "metadata": {},
     "output_type": "execute_result"
    }
   ],
   "source": [
    "# 2) label(레이블)별 데이터 빈도 확인\n",
    "train_lb.columns = ['Labels','Train_Cnt']\n",
    "test_lb.columns = ['Labels','Test_Cnt']\n",
    "\n",
    "pd.merge(test_lb, train_lb, on = 'Labels', how='left')"
   ]
  },
  {
   "cell_type": "markdown",
   "metadata": {},
   "source": [
    "> <code>ASM14261, ASM14307, .. </code> 경우 처럼 train 데이터가 10건 미만의 경우, 학습할 정보가 부족해 정답을 맞출 확률이 낮을 것으로 예상됩니다."
   ]
  },
  {
   "cell_type": "markdown",
   "metadata": {},
   "source": [
    "<br><br><br>\n",
    "\n",
    "## 1-2. 데이터 전처리"
   ]
  },
  {
   "cell_type": "markdown",
   "metadata": {},
   "source": [
    "   - Train/Test 데이터를 BERT 모델에 적용할 수 있는 Input(X), Output(y) 데이터로 재구성 합니다.\n",
    "    >Input (X) : '제목' + '내용' (text) \\\n",
    "    >Output (y) : '최종처리그룹' (label)\n",
    "    "
   ]
  },
  {
   "cell_type": "markdown",
   "metadata": {},
   "source": [
    "#### (1) Input (X) : 제목+내용 합친 후, 특수문자 제거"
   ]
  },
  {
   "cell_type": "code",
   "execution_count": 158,
   "metadata": {},
   "outputs": [
    {
     "name": "stdout",
     "output_type": "stream",
     "text": [
      "Train Data 개수 : 34396 \n",
      "Test Data 개수 : 8327\n"
     ]
    },
    {
     "data": {
      "text/html": [
       "<div>\n",
       "<style scoped>\n",
       "    .dataframe tbody tr th:only-of-type {\n",
       "        vertical-align: middle;\n",
       "    }\n",
       "\n",
       "    .dataframe tbody tr th {\n",
       "        vertical-align: top;\n",
       "    }\n",
       "\n",
       "    .dataframe thead th {\n",
       "        text-align: right;\n",
       "    }\n",
       "</style>\n",
       "<table border=\"1\" class=\"dataframe\">\n",
       "  <thead>\n",
       "    <tr style=\"text-align: right;\">\n",
       "      <th></th>\n",
       "      <th>제목</th>\n",
       "      <th>내용</th>\n",
       "      <th>최종처리그룹</th>\n",
       "    </tr>\n",
       "  </thead>\n",
       "  <tbody>\n",
       "    <tr>\n",
       "      <th>6</th>\n",
       "      <td>인터넷 신청 자동문자 발송여부 확인 부탁드립니다.</td>\n",
       "      <td>안녕하세요~\\r\\n상담품질컨설팅센터 입니다.\\r\\n인터넷 신청 자동문자 발송여부 확...</td>\n",
       "      <td>ASM14326</td>\n",
       "    </tr>\n",
       "    <tr>\n",
       "      <th>40</th>\n",
       "      <td>KOS / 인터넷 bus333584 외 87개회선 / 인터넷 일괄해지 접수했는데 해...</td>\n",
       "      <td>▶[시스템] ***\\r\\n▶[데이터] 인터넷 ********* 외 **개\\r\\n▶[...</td>\n",
       "      <td>ASM30034</td>\n",
       "    </tr>\n",
       "    <tr>\n",
       "      <th>149</th>\n",
       "      <td>유선에서 무선으로 변경 후 로그인 안됨 문의</td>\n",
       "      <td>유선에서 무선으로 변경 후 로그인 안됨 문의\\r\\n****_** 프로필 재설정해도 ...</td>\n",
       "      <td>ASM30014</td>\n",
       "    </tr>\n",
       "  </tbody>\n",
       "</table>\n",
       "</div>"
      ],
      "text/plain": [
       "                                                    제목  \\\n",
       "6                          인터넷 신청 자동문자 발송여부 확인 부탁드립니다.   \n",
       "40   KOS / 인터넷 bus333584 외 87개회선 / 인터넷 일괄해지 접수했는데 해...   \n",
       "149                           유선에서 무선으로 변경 후 로그인 안됨 문의   \n",
       "\n",
       "                                                    내용    최종처리그룹  \n",
       "6    안녕하세요~\\r\\n상담품질컨설팅센터 입니다.\\r\\n인터넷 신청 자동문자 발송여부 확...  ASM14326  \n",
       "40   ▶[시스템] ***\\r\\n▶[데이터] 인터넷 ********* 외 **개\\r\\n▶[...  ASM30034  \n",
       "149  유선에서 무선으로 변경 후 로그인 안됨 문의\\r\\n****_** 프로필 재설정해도 ...  ASM30014  "
      ]
     },
     "execution_count": 158,
     "metadata": {},
     "output_type": "execute_result"
    }
   ],
   "source": [
    "print('Train Data 개수 :',df_train.shape[0] , '\\nTest Data 개수 :',df_test.shape[0])\n",
    "df_train[['제목','내용','최종처리그룹']].head(3)\n",
    "df_test[['제목','내용','최종처리그룹']].head(3)"
   ]
  },
  {
   "cell_type": "code",
   "execution_count": 14,
   "metadata": {},
   "outputs": [
    {
     "name": "stdout",
     "output_type": "stream",
     "text": [
      "Train text 개수 : 34396 \n",
      "Test text 개수 : 8327\n",
      "\n",
      "▶ 제목과 내용을 합친 처리 결과 예시 :\n"
     ]
    },
    {
     "data": {
      "text/plain": [
       "'인터넷 신청 자동문자 발송여부 확인 부탁드립니다. 안녕하세요~\\r\\n상담품질컨설팅센터 입니다.\\r\\n인터넷 신청 자동문자 발송여부 확인 부탁드립니다. \\r\\n\\r\\n* 서비스번호+계약자명 : ****-****-**** / 고영이\\r\\n* 휴대폰번호 : ***-****-****\\r\\n* 접수센터+접수자명 : 대전 / 박다래 컨설턴트\\r\\n* 접수일+상품 : */**일 / 인터넷 신청\\r\\n\\r\\n* ***-****-**** 번으로 발송이력 없다면 다른 번호로 발송된 이력 있는지 여부도 확인 부탁드립니다.'"
      ]
     },
     "execution_count": 14,
     "metadata": {},
     "output_type": "execute_result"
    }
   ],
   "source": [
    "# 1) 제목+내용을 한줄로 합치기 \n",
    "title_tr = df_train.제목.tolist()\n",
    "contents_tr = df_train.내용.tolist()\n",
    "temp_tr = zip(title_tr,contents_tr)\n",
    "train_text = list(map(lambda x: str(x[0]) + ' ' + str(x[1]), temp_tr))  \n",
    "train_text[0]\n",
    "\n",
    "title_te = df_test.제목.tolist()\n",
    "contents_te = df_test.내용.tolist()\n",
    "temp_te = zip(title_te,contents_te)\n",
    "test_text = list(map(lambda x: str(x[0]) + ' ' + str(x[1]), temp_te))   \n",
    "\n",
    "print('Train text 개수 :',len(train_text) , '\\nTest text 개수 :',len(test_text))\n",
    "print('\\n▶ 제목과 내용을 합친 처리 결과 예시 :')\n",
    "test_text[0]"
   ]
  },
  {
   "cell_type": "code",
   "execution_count": 15,
   "metadata": {},
   "outputs": [
    {
     "name": "stdout",
     "output_type": "stream",
     "text": [
      "\n",
      "▶ 특수문자 제거 등 텍스트 전처리 처리 결과 예시 :\n"
     ]
    },
    {
     "data": {
      "text/plain": [
       "'인터넷 신청 자동문자 발송여부 확인 부탁드립니다 안녕하세요 상담품질컨설팅센터 입니다 인터넷 신청 자동문자 발송여부 확인 부탁드립니다 서비스번호 계약자명 고영이 휴대폰번호 접수센터 접수자명 대전 박다래 컨설턴트 접수일 상품 일 인터넷 신청 번으로 발송이력 없다면 다른 번호로 발송된 이력 있는지 여부도 확인 부탁드립니다'"
      ]
     },
     "execution_count": 15,
     "metadata": {},
     "output_type": "execute_result"
    }
   ],
   "source": [
    "# 2) 텍스트 특수문자 제거하기\n",
    "# 1. 한글, 영어대문자,소문자 남기고 나머지 삭제 (숫자의 경우 전화번호 사례가 많아 삭제) (한글의 경우 자음/모음으로만 이뤄진 ㅎㅎ ㅜㅜ 단어 삭제)\n",
    "# 2. 영어대문자는 소문자로 통일 (컴퓨터는 KOS, kos 를 다르게 인식)\n",
    "\n",
    "import re\n",
    "\n",
    "# train texts 전처리 및 리스트화\n",
    "train_x =[]\n",
    "\n",
    "for i in train_text:\n",
    "    i = re.sub('[^가-힣a-zA-Z]',' ',i).strip().lower() # 영어 소문자화 : lower() , 한글과 영문만 남기고 삭제\n",
    "    pattern = re.compile(r'\\s\\s+')\n",
    "    temp = re.sub(pattern, ' ', i)\n",
    "    train_x.append(temp)\n",
    "    \n",
    "# test texts 전처리 및 리스트화\n",
    "test_x =[]\n",
    "\n",
    "for i in test_text:\n",
    "    i = re.sub('[^가-힣a-zA-Z]',' ',i).strip().lower() # 영어 소문자화 : lower() , 한글과 영문만 남기고 삭제\n",
    "    pattern = re.compile(r'\\s\\s+')\n",
    "    temp = re.sub(pattern, ' ', i)\n",
    "    test_x.append(temp)\n",
    "    \n",
    "# print('Train text 개수 :',len(train_x) , '\\nTest text 개수 :',len(test_x))\n",
    "print('\\n▶ 특수문자 제거 등 텍스트 전처리 처리 결과 예시 :')\n",
    "test_x[0]\n",
    "\n"
   ]
  },
  {
   "cell_type": "markdown",
   "metadata": {},
   "source": [
    "> 최종 이용하게 될 Input(x) : train_x , test_x"
   ]
  },
  {
   "cell_type": "markdown",
   "metadata": {},
   "source": [
    "<br><br>\n",
    "\n",
    "#### (2) Output (y) : 최종처리그룹 (label)"
   ]
  },
  {
   "cell_type": "code",
   "execution_count": 185,
   "metadata": {},
   "outputs": [
    {
     "data": {
      "text/plain": [
       "['ASM14326', 'ASM30034', 'ASM30014']"
      ]
     },
     "execution_count": 185,
     "metadata": {},
     "output_type": "execute_result"
    }
   ],
   "source": [
    "# train/test labels 리스트화\n",
    "train_y = df_train.최종처리그룹.tolist()\n",
    "test_y = df_test.최종처리그룹.tolist()\n",
    "test_y[:3]"
   ]
  },
  {
   "cell_type": "markdown",
   "metadata": {},
   "source": [
    "> 최종 이용하게 될 Output(y) : train_y , test_y"
   ]
  },
  {
   "cell_type": "markdown",
   "metadata": {},
   "source": [
    "<br><br>\n",
    "#### (3) 데이터 저장 (.tsv)\n",
    "- 다양한 NLP Task 모델에 적용할 수 있도록 <code>label</code>, <code>text</code> 로 최종 저장 \n",
    "\n",
    "    ㅇ Input(x) : train_x , test_x \\\n",
    "    ㅇ Output(y) : train_y , test_y"
   ]
  },
  {
   "cell_type": "code",
   "execution_count": 187,
   "metadata": {},
   "outputs": [
    {
     "data": {
      "text/html": [
       "<div>\n",
       "<style scoped>\n",
       "    .dataframe tbody tr th:only-of-type {\n",
       "        vertical-align: middle;\n",
       "    }\n",
       "\n",
       "    .dataframe tbody tr th {\n",
       "        vertical-align: top;\n",
       "    }\n",
       "\n",
       "    .dataframe thead th {\n",
       "        text-align: right;\n",
       "    }\n",
       "</style>\n",
       "<table border=\"1\" class=\"dataframe\">\n",
       "  <thead>\n",
       "    <tr style=\"text-align: right;\">\n",
       "      <th></th>\n",
       "      <th>label</th>\n",
       "      <th>text</th>\n",
       "    </tr>\n",
       "  </thead>\n",
       "  <tbody>\n",
       "    <tr>\n",
       "      <th>0</th>\n",
       "      <td>ASM14326</td>\n",
       "      <td>인터넷 신청 자동문자 발송여부 확인 부탁드립니다 안녕하세요 상담품질컨설팅센터 입니다...</td>\n",
       "    </tr>\n",
       "    <tr>\n",
       "      <th>1</th>\n",
       "      <td>ASM30034</td>\n",
       "      <td>kos 인터넷 bus 외 개회선 인터넷 일괄해지 접수했는데 해지오더가 들어가지 않고...</td>\n",
       "    </tr>\n",
       "    <tr>\n",
       "      <th>2</th>\n",
       "      <td>ASM30014</td>\n",
       "      <td>유선에서 무선으로 변경 후 로그인 안됨 문의 유선에서 무선으로 변경 후 로그인 안됨...</td>\n",
       "    </tr>\n",
       "    <tr>\n",
       "      <th>3</th>\n",
       "      <td>ASM34860</td>\n",
       "      <td>kos 일반전화 캠페인수행건 삭제 및 재등록 불가하여 문의 시스템 데이터 일반전화 ...</td>\n",
       "    </tr>\n",
       "    <tr>\n",
       "      <th>4</th>\n",
       "      <td>ASM30031</td>\n",
       "      <td>재문의 srm kos 인터넷전화 설변오더 등록한 처리자 문의 재문의 인터넷전화 설변...</td>\n",
       "    </tr>\n",
       "  </tbody>\n",
       "</table>\n",
       "</div>"
      ],
      "text/plain": [
       "      label                                               text\n",
       "0  ASM14326  인터넷 신청 자동문자 발송여부 확인 부탁드립니다 안녕하세요 상담품질컨설팅센터 입니다...\n",
       "1  ASM30034  kos 인터넷 bus 외 개회선 인터넷 일괄해지 접수했는데 해지오더가 들어가지 않고...\n",
       "2  ASM30014  유선에서 무선으로 변경 후 로그인 안됨 문의 유선에서 무선으로 변경 후 로그인 안됨...\n",
       "3  ASM34860  kos 일반전화 캠페인수행건 삭제 및 재등록 불가하여 문의 시스템 데이터 일반전화 ...\n",
       "4  ASM30031  재문의 srm kos 인터넷전화 설변오더 등록한 처리자 문의 재문의 인터넷전화 설변..."
      ]
     },
     "execution_count": 187,
     "metadata": {},
     "output_type": "execute_result"
    }
   ],
   "source": [
    "import pandas as pd\n",
    "\n",
    "df_tr = pd.DataFrame(train_y) \n",
    "df_tr['text'] =train_x\n",
    "df_tr.columns= ['label' , 'text']\n",
    "df_tr.head(5)\n",
    "\n",
    "df_tst = pd.DataFrame(test_y) \n",
    "df_tst['text'] =test_x\n",
    "df_tst.columns= ['label' , 'text']\n",
    "df_tst.head(5)"
   ]
  },
  {
   "cell_type": "code",
   "execution_count": 188,
   "metadata": {},
   "outputs": [],
   "source": [
    "# tsv 파일로 저장 \n",
    "df_tr.to_csv('data/train_data.tsv', index=False, header=True, sep=\"\\t\")\n",
    "df_tst.to_csv('data/test_data.tsv', index=False, header=True, sep=\"\\t\")"
   ]
  },
  {
   "cell_type": "markdown",
   "metadata": {},
   "source": [
    "- 이후 bert 적용 시, train_data.tsv, test_data.tsv 를 사용하여 진행할 예정입니다."
   ]
  },
  {
   "cell_type": "code",
   "execution_count": 19,
   "metadata": {},
   "outputs": [
    {
     "data": {
      "text/html": [
       "<div>\n",
       "<style scoped>\n",
       "    .dataframe tbody tr th:only-of-type {\n",
       "        vertical-align: middle;\n",
       "    }\n",
       "\n",
       "    .dataframe tbody tr th {\n",
       "        vertical-align: top;\n",
       "    }\n",
       "\n",
       "    .dataframe thead th {\n",
       "        text-align: right;\n",
       "    }\n",
       "</style>\n",
       "<table border=\"1\" class=\"dataframe\">\n",
       "  <thead>\n",
       "    <tr style=\"text-align: right;\">\n",
       "      <th></th>\n",
       "      <th>label</th>\n",
       "      <th>text</th>\n",
       "    </tr>\n",
       "  </thead>\n",
       "  <tbody>\n",
       "    <tr>\n",
       "      <th>0</th>\n",
       "      <td>ASM14326</td>\n",
       "      <td>인터넷 신청 자동문자 발송여부 확인 부탁드립니다 안녕하세요 상담품질컨설팅센터 입니다...</td>\n",
       "    </tr>\n",
       "    <tr>\n",
       "      <th>1</th>\n",
       "      <td>ASM30034</td>\n",
       "      <td>kos 인터넷 bus 외 개회선 인터넷 일괄해지 접수했는데 해지오더가 들어가지 않고...</td>\n",
       "    </tr>\n",
       "    <tr>\n",
       "      <th>2</th>\n",
       "      <td>ASM30014</td>\n",
       "      <td>유선에서 무선으로 변경 후 로그인 안됨 문의 유선에서 무선으로 변경 후 로그인 안됨...</td>\n",
       "    </tr>\n",
       "    <tr>\n",
       "      <th>3</th>\n",
       "      <td>ASM34860</td>\n",
       "      <td>kos 일반전화 캠페인수행건 삭제 및 재등록 불가하여 문의 시스템 데이터 일반전화 ...</td>\n",
       "    </tr>\n",
       "    <tr>\n",
       "      <th>4</th>\n",
       "      <td>ASM30031</td>\n",
       "      <td>재문의 srm kos 인터넷전화 설변오더 등록한 처리자 문의 재문의 인터넷전화 설변...</td>\n",
       "    </tr>\n",
       "    <tr>\n",
       "      <th>...</th>\n",
       "      <td>...</td>\n",
       "      <td>...</td>\n",
       "    </tr>\n",
       "    <tr>\n",
       "      <th>8322</th>\n",
       "      <td>ASM31688</td>\n",
       "      <td>긴급 kos 유선에는 기가지니상품이나 작업의뢰서는 일반otv로 확인됨 경로 서비스지...</td>\n",
       "    </tr>\n",
       "    <tr>\n",
       "      <th>8323</th>\n",
       "      <td>ASM38958</td>\n",
       "      <td>무선 그린폰포인트 원복요청 월 일 고객님 개통취소를 위한 그린폰 포인트수납취소요청을...</td>\n",
       "    </tr>\n",
       "    <tr>\n",
       "      <th>8324</th>\n",
       "      <td>ASM38968</td>\n",
       "      <td>가입제한 해제 요청 강현자 해지 해당 회선 스팸이용정지 후 정지미복구 상태로 해지하...</td>\n",
       "    </tr>\n",
       "    <tr>\n",
       "      <th>8325</th>\n",
       "      <td>ASM38933</td>\n",
       "      <td>자동이체 출금요청들어가지 않은사유 경로 데이터 최희진 청구번호 계좌번호 지역농축협 ...</td>\n",
       "    </tr>\n",
       "    <tr>\n",
       "      <th>8326</th>\n",
       "      <td>ASM38968</td>\n",
       "      <td>usim 이동성 결과 확인시 가입자 사용중인 메세지 조회 되어 확인 요청 경로 데이...</td>\n",
       "    </tr>\n",
       "  </tbody>\n",
       "</table>\n",
       "<p>8327 rows × 2 columns</p>\n",
       "</div>"
      ],
      "text/plain": [
       "         label                                               text\n",
       "0     ASM14326  인터넷 신청 자동문자 발송여부 확인 부탁드립니다 안녕하세요 상담품질컨설팅센터 입니다...\n",
       "1     ASM30034  kos 인터넷 bus 외 개회선 인터넷 일괄해지 접수했는데 해지오더가 들어가지 않고...\n",
       "2     ASM30014  유선에서 무선으로 변경 후 로그인 안됨 문의 유선에서 무선으로 변경 후 로그인 안됨...\n",
       "3     ASM34860  kos 일반전화 캠페인수행건 삭제 및 재등록 불가하여 문의 시스템 데이터 일반전화 ...\n",
       "4     ASM30031  재문의 srm kos 인터넷전화 설변오더 등록한 처리자 문의 재문의 인터넷전화 설변...\n",
       "...        ...                                                ...\n",
       "8322  ASM31688  긴급 kos 유선에는 기가지니상품이나 작업의뢰서는 일반otv로 확인됨 경로 서비스지...\n",
       "8323  ASM38958  무선 그린폰포인트 원복요청 월 일 고객님 개통취소를 위한 그린폰 포인트수납취소요청을...\n",
       "8324  ASM38968  가입제한 해제 요청 강현자 해지 해당 회선 스팸이용정지 후 정지미복구 상태로 해지하...\n",
       "8325  ASM38933  자동이체 출금요청들어가지 않은사유 경로 데이터 최희진 청구번호 계좌번호 지역농축협 ...\n",
       "8326  ASM38968  usim 이동성 결과 확인시 가입자 사용중인 메세지 조회 되어 확인 요청 경로 데이...\n",
       "\n",
       "[8327 rows x 2 columns]"
      ]
     },
     "execution_count": 19,
     "metadata": {},
     "output_type": "execute_result"
    }
   ],
   "source": [
    "# 파일 읽기 형태\n",
    "pd.read_csv('data/test_data.tsv',sep=\"\\t\")"
   ]
  },
  {
   "cell_type": "markdown",
   "metadata": {},
   "source": [
    "<br><br><br>\n",
    "####  lessons learned"
   ]
  },
  {
   "cell_type": "markdown",
   "metadata": {},
   "source": [
    "\n",
    "- 정규표현식을 사용하여 전처리를 진행하며 시행착오를 겪었습니다.\n",
    "- 특수문자를 선별적으로 제거하다보니 생각치못한 특수문자 사용예가 있어 한글과 영어를 제외한 모든 특수문자를 날리는 방법으로 진행해야 했습니다.\n",
    "- KOS, kos는 컴퓨터는 다른 단어로 인식하기에 영문은 소문자화 진행해야 했습니다."
   ]
  },
  {
   "cell_type": "markdown",
   "metadata": {},
   "source": [
    "<br><br><br><br><br><br><br>\n",
    "<hr>"
   ]
  },
  {
   "cell_type": "markdown",
   "metadata": {},
   "source": [
    "작성자 : 박은진"
   ]
  }
 ],
 "metadata": {
  "kernelspec": {
   "display_name": "Python 3",
   "language": "python",
   "name": "python3"
  },
  "language_info": {
   "codemirror_mode": {
    "name": "ipython",
    "version": 3
   },
   "file_extension": ".py",
   "mimetype": "text/x-python",
   "name": "python",
   "nbconvert_exporter": "python",
   "pygments_lexer": "ipython3",
   "version": "3.7.3"
  }
 },
 "nbformat": 4,
 "nbformat_minor": 4
}
